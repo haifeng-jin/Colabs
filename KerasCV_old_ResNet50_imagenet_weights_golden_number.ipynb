{
  "nbformat": 4,
  "nbformat_minor": 0,
  "metadata": {
    "colab": {
      "provenance": [],
      "authorship_tag": "ABX9TyPELozjYgyZvBx3IVBQ57Is",
      "include_colab_link": true
    },
    "kernelspec": {
      "name": "python3",
      "display_name": "Python 3"
    },
    "language_info": {
      "name": "python"
    }
  },
  "cells": [
    {
      "cell_type": "markdown",
      "metadata": {
        "id": "view-in-github",
        "colab_type": "text"
      },
      "source": [
        "<a href=\"https://colab.research.google.com/github/haifeng-jin/Colabs/blob/main/KerasCV_old_ResNet50_imagenet_weights_golden_number.ipynb\" target=\"_parent\"><img src=\"https://colab.research.google.com/assets/colab-badge.svg\" alt=\"Open In Colab\"/></a>"
      ]
    },
    {
      "cell_type": "code",
      "execution_count": 1,
      "metadata": {
        "id": "kPJ2CElDdr_p"
      },
      "outputs": [],
      "source": [
        "!pip install keras-cv==0.4.* -q"
      ]
    },
    {
      "cell_type": "code",
      "source": [
        "from keras_cv.models import resnet_v1\n",
        "import tensorflow as tf\n",
        "\n",
        "model = resnet_v1.ResNet50(include_rescaling=True, include_top=False, weights=\"imagenet\")\n",
        "outputs = model.as_backbone().predict(tf.ones((1, 512, 512, 3)))\n",
        "\n",
        "for i in range(2, 6):\n",
        "    print(outputs[i][0, 0, 0, :5])\n"
      ],
      "metadata": {
        "colab": {
          "base_uri": "https://localhost:8080/"
        },
        "id": "XAs1ZNbkd12m",
        "outputId": "b656d7f8-b763-4e56-b5fc-87808c44003a"
      },
      "execution_count": 2,
      "outputs": [
        {
          "output_type": "stream",
          "name": "stdout",
          "text": [
            "You do not have Waymo Open Dataset installed, so KerasCV Waymo metrics are not available.\n",
            "1/1 [==============================] - 4s 4s/step\n",
            "[0.50249904 0.35751498 0.9474212  1.0659311  1.1105202 ]\n",
            "[0.65718395 0.7209194  0.39707005 0.5164382  0.73338735]\n",
            "[1.0615100e+00 1.2732037e+00 4.2707797e-02 6.3376129e-04 1.0917966e+00]\n",
            "[0.         0.         0.         0.05175382 0.        ]\n"
          ]
        }
      ]
    }
  ]
}