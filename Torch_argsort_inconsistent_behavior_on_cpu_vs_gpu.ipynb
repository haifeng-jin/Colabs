{
  "nbformat": 4,
  "nbformat_minor": 0,
  "metadata": {
    "colab": {
      "provenance": [],
      "machine_shape": "hm",
      "gpuType": "A100",
      "authorship_tag": "ABX9TyN3ajpWeN1OIsL6bertXZkn",
      "include_colab_link": true
    },
    "kernelspec": {
      "name": "python3",
      "display_name": "Python 3"
    },
    "language_info": {
      "name": "python"
    },
    "accelerator": "GPU"
  },
  "cells": [
    {
      "cell_type": "markdown",
      "metadata": {
        "id": "view-in-github",
        "colab_type": "text"
      },
      "source": [
        "<a href=\"https://colab.research.google.com/github/haifeng-jin/Colabs/blob/main/Torch_argsort_inconsistent_behavior_on_cpu_vs_gpu.ipynb\" target=\"_parent\"><img src=\"https://colab.research.google.com/assets/colab-badge.svg\" alt=\"Open In Colab\"/></a>"
      ]
    },
    {
      "cell_type": "code",
      "execution_count": 2,
      "metadata": {
        "colab": {
          "base_uri": "https://localhost:8080/"
        },
        "id": "LgjYmcz9GcQ1",
        "outputId": "5f24e0be-0de8-4a35-a841-94fe6ad5e0ee"
      },
      "outputs": [
        {
          "output_type": "stream",
          "name": "stdout",
          "text": [
            "2.0.1+cu118\n",
            "[0 5 1 4 2 3]\n",
            "tensor([0, 5, 1, 4, 2, 3])\n",
            "tensor([5, 0, 1, 4, 2, 3], device='cuda:0')\n"
          ]
        }
      ],
      "source": [
        "import torch\n",
        "import numpy as np\n",
        "\n",
        "print(torch.__version__)\n",
        "\n",
        "# Numpy\n",
        "values = np.array([1, 2, 3, 3, 2, 1])\n",
        "print(np.argsort(values))\n",
        "\n",
        "# Torch on cpu\n",
        "a = torch.as_tensor(values)\n",
        "print(torch.argsort(a, dim=0))\n",
        "\n",
        "# Torch on cuda\n",
        "a = torch.as_tensor(values, device=\"cuda:0\")\n",
        "print(torch.argsort(a, dim=0))"
      ]
    }
  ]
}