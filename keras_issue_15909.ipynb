{
  "nbformat": 4,
  "nbformat_minor": 0,
  "metadata": {
    "colab": {
      "provenance": [],
      "include_colab_link": true
    },
    "kernelspec": {
      "name": "python3",
      "display_name": "Python 3"
    }
  },
  "cells": [
    {
      "cell_type": "markdown",
      "metadata": {
        "id": "view-in-github",
        "colab_type": "text"
      },
      "source": [
        "<a href=\"https://colab.research.google.com/github/haifeng-jin/Colabs/blob/main/keras_issue_15909.ipynb\" target=\"_parent\"><img src=\"https://colab.research.google.com/assets/colab-badge.svg\" alt=\"Open In Colab\"/></a>"
      ]
    },
    {
      "cell_type": "code",
      "metadata": {
        "id": "S41MjBe9TlYw"
      },
      "source": [
        "import tensorflow as tf"
      ],
      "execution_count": null,
      "outputs": []
    },
    {
      "cell_type": "code",
      "metadata": {
        "id": "XvcdejTdTtAj"
      },
      "source": [
        "# tfk = tf.keras\n",
        "# tfkl = tf.keras.layers\n",
        "from tensorflow import keras"
      ],
      "execution_count": null,
      "outputs": []
    },
    {
      "cell_type": "code",
      "source": [
        "tf.__version__, keras.__version__"
      ],
      "metadata": {
        "colab": {
          "base_uri": "https://localhost:8080/"
        },
        "id": "dTx7jYqSUue8",
        "outputId": "c40911bf-c303-4a72-ef33-3f110b3cd85d"
      },
      "execution_count": null,
      "outputs": [
        {
          "output_type": "execute_result",
          "data": {
            "text/plain": [
              "('2.9.2', '2.9.0')"
            ]
          },
          "metadata": {},
          "execution_count": 3
        }
      ]
    },
    {
      "cell_type": "code",
      "metadata": {
        "id": "r7R2EI8LTytz"
      },
      "source": [
        "input_shape = [28, 28, 1]"
      ],
      "execution_count": null,
      "outputs": []
    },
    {
      "cell_type": "code",
      "metadata": {
        "id": "XNA9HKfwTu_M",
        "outputId": "1f09a8ac-f80a-4c9e-e829-d635cf94d6d6",
        "colab": {
          "base_uri": "https://localhost:8080/"
        }
      },
      "source": [
        "def build_sub_model(input_shape):\n",
        "    input_x = keras.layers.Input(shape=input_shape)\n",
        "    h = keras.layers.Flatten()(input_x)\n",
        "    h = keras.layers.Dense(10, activation='relu', activity_regularizer=tf.keras.regularizers.l1())(h)\n",
        "    h = keras.layers.Dense(10, activation='relu')(h)\n",
        "\n",
        "    return keras.models.Model(inputs=input_x, outputs=h)\n",
        "\n",
        "keras.utils.set_random_seed(4)\n",
        "# it is expected that this will show only 1 loss entry\n",
        "sub_model = build_sub_model(input_shape)\n",
        "sub_model(np.ones([10, 28, 28, 1]))\n",
        "print(sub_model.losses)"
      ],
      "execution_count": null,
      "outputs": [
        {
          "output_type": "stream",
          "name": "stdout",
          "text": [
            "[<tf.Tensor: shape=(), dtype=float32, numpy=0.08828449>]\n"
          ]
        }
      ]
    },
    {
      "cell_type": "code",
      "metadata": {
        "id": "ABp9hJnVTxjr",
        "outputId": "a9c37237-e5eb-4414-ec32-84ba2234a747",
        "colab": {
          "base_uri": "https://localhost:8080/"
        }
      },
      "source": [
        "def build_model(input_shape):\n",
        "    input_x = keras.layers.Input(shape=input_shape)\n",
        "    sub_model = build_sub_model(input_shape)\n",
        "    outputs = sub_model(input_x)\n",
        "    return keras.models.Model(inputs=input_x, outputs=outputs)\n",
        "\n",
        "keras.utils.set_random_seed(4)\n",
        "# encapsulating test model inside another model\n",
        "model = build_model(input_shape)\n",
        "\n",
        "# should only show 1 loss but shows that\n",
        "# regularization loss has been duplicated\n",
        "model(np.ones([10, 28, 28, 1]))\n",
        "print(model.losses)\n",
        "\n",
        "model.compile(loss=\"mse\")\n",
        "import numpy as np\n",
        "print(model.losses)"
      ],
      "execution_count": null,
      "outputs": [
        {
          "output_type": "stream",
          "name": "stdout",
          "text": [
            "[<tf.Tensor: shape=(), dtype=float32, numpy=0.08828449>]\n",
            "[<tf.Tensor: shape=(), dtype=float32, numpy=0.08828449>]\n"
          ]
        }
      ]
    }
  ]
}