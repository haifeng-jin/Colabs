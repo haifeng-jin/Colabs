{
  "nbformat": 4,
  "nbformat_minor": 0,
  "metadata": {
    "colab": {
      "provenance": [],
      "authorship_tag": "ABX9TyP8cOOc7LyCtbP7JmSzJm93",
      "include_colab_link": true
    },
    "kernelspec": {
      "name": "python3",
      "display_name": "Python 3"
    },
    "language_info": {
      "name": "python"
    }
  },
  "cells": [
    {
      "cell_type": "markdown",
      "metadata": {
        "id": "view-in-github",
        "colab_type": "text"
      },
      "source": [
        "<a href=\"https://colab.research.google.com/github/haifeng-jin/Colabs/blob/main/Keras_issue_14776.ipynb\" target=\"_parent\"><img src=\"https://colab.research.google.com/assets/colab-badge.svg\" alt=\"Open In Colab\"/></a>"
      ]
    },
    {
      "cell_type": "code",
      "execution_count": 12,
      "metadata": {
        "colab": {
          "base_uri": "https://localhost:8080/"
        },
        "id": "ChTPADWUpgBI",
        "outputId": "d023e455-8723-415c-b23b-501109448f24"
      },
      "outputs": [
        {
          "output_type": "stream",
          "name": "stdout",
          "text": [
            "after compile 0\n",
            "after eager forward 0\n"
          ]
        },
        {
          "output_type": "stream",
          "name": "stderr",
          "text": [
            "WARNING:tensorflow:5 out of the last 5 calls to <function Model.make_train_function.<locals>.train_function at 0x7f358df66820> triggered tf.function retracing. Tracing is expensive and the excessive number of tracings could be due to (1) creating @tf.function repeatedly in a loop, (2) passing tensors with different shapes, (3) passing Python objects instead of tensors. For (1), please define your @tf.function outside of the loop. For (2), @tf.function has reduce_retracing=True option that can avoid unnecessary retracing. For (3), please refer to https://www.tensorflow.org/guide/function#controlling_retracing and https://www.tensorflow.org/api_docs/python/tf/function for  more details.\n"
          ]
        },
        {
          "output_type": "stream",
          "name": "stdout",
          "text": [
            "after fit 5\n"
          ]
        }
      ],
      "source": [
        "from tensorflow import keras\n",
        "from tensorflow.keras import layers\n",
        "import numpy as np\n",
        "\n",
        "inputs = keras.Input(shape=(784,))\n",
        "x = layers.Dense(64, activation=\"relu\")(inputs)\n",
        "outputs = layers.Dense(10)(x)\n",
        "model = keras.Model(inputs=inputs, outputs=outputs, name=\"mnist_model\")\n",
        "model.compile(\n",
        "    loss=keras.losses.CategoricalCrossentropy(from_logits=True),\n",
        "    optimizer=keras.optimizers.RMSprop(),\n",
        "    metrics=[\"accuracy\"],\n",
        ")\n",
        "# model.optimizer._create_hypers()\n",
        "# print(\"hyper\", model.optimizer._hyper)\n",
        "print(\"after compile\", len(model.optimizer.weights))\n",
        "model(np.random.rand(10, 784))\n",
        "print(\"after eager forward\", len(model.optimizer.weights))\n",
        "model.fit(np.random.rand(10, 784), np.random.rand(10, 10), verbose=0)\n",
        "print(\"after fit\", len(model.optimizer.weights))"
      ]
    }
  ]
}