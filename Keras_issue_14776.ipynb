{
  "nbformat": 4,
  "nbformat_minor": 0,
  "metadata": {
    "colab": {
      "provenance": [],
      "authorship_tag": "ABX9TyMLbC6rnA/m7PO2b68MQtjZ",
      "include_colab_link": true
    },
    "kernelspec": {
      "name": "python3",
      "display_name": "Python 3"
    },
    "language_info": {
      "name": "python"
    }
  },
  "cells": [
    {
      "cell_type": "markdown",
      "metadata": {
        "id": "view-in-github",
        "colab_type": "text"
      },
      "source": [
        "<a href=\"https://colab.research.google.com/github/haifeng-jin/Colabs/blob/main/Keras_issue_14776.ipynb\" target=\"_parent\"><img src=\"https://colab.research.google.com/assets/colab-badge.svg\" alt=\"Open In Colab\"/></a>"
      ]
    },
    {
      "cell_type": "code",
      "execution_count": 1,
      "metadata": {
        "colab": {
          "base_uri": "https://localhost:8080/"
        },
        "id": "ChTPADWUpgBI",
        "outputId": "1eeba5fe-1ceb-4d7d-9cc9-6078b37294e8"
      },
      "outputs": [
        {
          "output_type": "stream",
          "name": "stdout",
          "text": [
            "after compile 0\n",
            "after eager forward 0\n",
            "after optimizer iteration 1\n",
            "after fit 5\n"
          ]
        }
      ],
      "source": [
        "from tensorflow import keras\n",
        "from tensorflow.keras import layers\n",
        "import numpy as np\n",
        "\n",
        "inputs = keras.Input(shape=(784,))\n",
        "x = layers.Dense(64, activation=\"relu\")(inputs)\n",
        "outputs = layers.Dense(10)(x)\n",
        "model = keras.Model(inputs=inputs, outputs=outputs, name=\"mnist_model\")\n",
        "model.compile(\n",
        "    loss=keras.losses.CategoricalCrossentropy(from_logits=True),\n",
        "    optimizer=keras.optimizers.RMSprop(),\n",
        "    metrics=[\"accuracy\"],\n",
        ")\n",
        "# model.optimizer._create_hypers()\n",
        "# print(\"hyper\", model.optimizer._hyper)\n",
        "print(\"after compile\", len(model.optimizer.weights))\n",
        "model(np.random.rand(10, 784))\n",
        "print(\"after eager forward\", len(model.optimizer.weights))\n",
        "model.optimizer.iterations\n",
        "print(\"after optimizer iteration\", len(model.optimizer.weights))\n",
        "model.fit(np.random.rand(10, 784), np.random.rand(10, 10), verbose=0)\n",
        "print(\"after fit\", len(model.optimizer.weights))"
      ]
    }
  ]
}