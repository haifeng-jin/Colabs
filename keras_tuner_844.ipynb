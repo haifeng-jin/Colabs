{
  "nbformat": 4,
  "nbformat_minor": 0,
  "metadata": {
    "colab": {
      "provenance": [],
      "authorship_tag": "ABX9TyODP+07Ks7f4Q9C/7Tx4wT0",
      "include_colab_link": true
    },
    "kernelspec": {
      "name": "python3",
      "display_name": "Python 3"
    },
    "language_info": {
      "name": "python"
    }
  },
  "cells": [
    {
      "cell_type": "markdown",
      "metadata": {
        "id": "view-in-github",
        "colab_type": "text"
      },
      "source": [
        "<a href=\"https://colab.research.google.com/github/haifeng-jin/Colabs/blob/main/keras_tuner_844.ipynb\" target=\"_parent\"><img src=\"https://colab.research.google.com/assets/colab-badge.svg\" alt=\"Open In Colab\"/></a>"
      ]
    },
    {
      "cell_type": "code",
      "source": [
        "!pip install keras-tuner -q"
      ],
      "metadata": {
        "colab": {
          "base_uri": "https://localhost:8080/"
        },
        "id": "q0TykK91xGs3",
        "outputId": "89a3628d-ef8c-4e83-cce2-86ee3d44bba2"
      },
      "execution_count": 2,
      "outputs": [
        {
          "output_type": "stream",
          "name": "stdout",
          "text": [
            "\u001b[2K     \u001b[90m━━━━━━━━━━━━━━━━━━━━━━━━━━━━━━━━━━━━━━━\u001b[0m \u001b[32m169.6/169.6 KB\u001b[0m \u001b[31m3.8 MB/s\u001b[0m eta \u001b[36m0:00:00\u001b[0m\n",
            "\u001b[2K     \u001b[90m━━━━━━━━━━━━━━━━━━━━━━━━━━━━━━━━━━━━━━━━\u001b[0m \u001b[32m1.6/1.6 MB\u001b[0m \u001b[31m24.3 MB/s\u001b[0m eta \u001b[36m0:00:00\u001b[0m\n",
            "\u001b[?25h"
          ]
        }
      ]
    },
    {
      "cell_type": "code",
      "source": [
        "import keras_tuner\n",
        "print(keras_tuner.__version__)"
      ],
      "metadata": {
        "colab": {
          "base_uri": "https://localhost:8080/"
        },
        "id": "x1uIP39ExQ1u",
        "outputId": "86bff539-12fd-430d-d585-756bec803b54"
      },
      "execution_count": 4,
      "outputs": [
        {
          "output_type": "stream",
          "name": "stdout",
          "text": [
            "1.2.1\n"
          ]
        }
      ]
    },
    {
      "cell_type": "code",
      "execution_count": 5,
      "metadata": {
        "colab": {
          "base_uri": "https://localhost:8080/"
        },
        "id": "1NaOYyUSw0zV",
        "outputId": "493211c7-037e-4ca0-931a-eb13102eef0e"
      },
      "outputs": [
        {
          "output_type": "stream",
          "name": "stdout",
          "text": [
            "Trial 270 Complete [00h 00m 03s]\n",
            "val_loss: 0.24739813804626465\n",
            "\n",
            "Best val_loss So Far: 0.0769226923584938\n",
            "Total elapsed time: 00h 05m 20s\n"
          ]
        }
      ],
      "source": [
        "import numpy as np\n",
        "from tensorflow import keras\n",
        "\n",
        "\n",
        "def MyHyperModel(hp):\n",
        "    hp.Choice(\"learning_rate\", values=[1e-2, 1e-3, 1e-4])\n",
        "    hp.Choice(\"units\", values=[320, 160, 80])\n",
        "    model = keras.Sequential()\n",
        "    model.add(keras.layers.Dense(units=10, activation=\"relu\"))\n",
        "    model.add(keras.layers.Dense(1))\n",
        "    model.compile(loss=\"mse\")\n",
        "    return model\n",
        "\n",
        "\n",
        "tuner = keras_tuner.Hyperband(\n",
        "    hypermodel=MyHyperModel,\n",
        "    max_epochs=30,\n",
        "    hyperband_iterations=3,\n",
        "    objective=\"val_loss\",\n",
        "    project_name=\"my_project\",\n",
        "    overwrite=True,\n",
        ")\n",
        "\n",
        "x, y = np.random.rand(10, 20), np.random.rand(10, 2)\n",
        "tuner.search(\n",
        "    x=x,\n",
        "    y=y,\n",
        "    validation_data=(x, y),\n",
        "    validation_split=0.2,\n",
        ")\n"
      ]
    }
  ]
}